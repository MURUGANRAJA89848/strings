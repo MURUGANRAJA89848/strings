{
 "cells": [
  {
   "cell_type": "code",
   "execution_count": 4,
   "id": "69433b52",
   "metadata": {},
   "outputs": [
    {
     "name": "stdout",
     "output_type": "stream",
     "text": [
      "+ve index value of 13th postion: s\n"
     ]
    }
   ],
   "source": [
    "string1 = 'I am learing string data type'\n",
    "print(\"+ve index value of 13th postion:\",(string1[13]))"
   ]
  },
  {
   "cell_type": "code",
   "execution_count": 5,
   "id": "72559bae",
   "metadata": {},
   "outputs": [
    {
     "name": "stdout",
     "output_type": "stream",
     "text": [
      "-ve index value of -16th postion: s\n"
     ]
    }
   ],
   "source": [
    "string1 = 'I am learing string data type'\n",
    "print(\"-ve index value of -16th postion:\",(string1[-16]))"
   ]
  },
  {
   "cell_type": "code",
   "execution_count": 8,
   "id": "f7093578",
   "metadata": {},
   "outputs": [
    {
     "name": "stdout",
     "output_type": "stream",
     "text": [
      "type\n"
     ]
    }
   ],
   "source": [
    "string1 = 'I am learing string data type'\n",
    "print((string1[-4:]))"
   ]
  },
  {
   "cell_type": "code",
   "execution_count": 9,
   "id": "7ddc74ad",
   "metadata": {},
   "outputs": [
    {
     "name": "stdout",
     "output_type": "stream",
     "text": [
      "learing\n"
     ]
    }
   ],
   "source": [
    "string1 = 'I am learing string data type'\n",
    "print((string1[5:-17]))"
   ]
  },
  {
   "cell_type": "code",
   "execution_count": 21,
   "id": "376fe06d",
   "metadata": {},
   "outputs": [
    {
     "name": "stdout",
     "output_type": "stream",
     "text": [
      "da\n"
     ]
    }
   ],
   "source": [
    "string1 = 'I am learing string data type'\n",
    "print(string1[-9:-7])"
   ]
  },
  {
   "cell_type": "code",
   "execution_count": 11,
   "id": "d95b7164",
   "metadata": {},
   "outputs": [
    {
     "name": "stdout",
     "output_type": "stream",
     "text": [
      "20\n"
     ]
    }
   ],
   "source": [
    "string1 = 'I am learing string data type'\n",
    "print(string1.find('data'))"
   ]
  },
  {
   "cell_type": "code",
   "execution_count": 26,
   "id": "33cf16af",
   "metadata": {},
   "outputs": [
    {
     "name": "stdout",
     "output_type": "stream",
     "text": [
      "pythonpythonpython\n"
     ]
    }
   ],
   "source": [
    "string2 =     \"python\"     \"python\"     \"python\"     \n",
    "print(string2.strip())"
   ]
  },
  {
   "cell_type": "code",
   "execution_count": 32,
   "id": "3617be5a",
   "metadata": {},
   "outputs": [
    {
     "name": "stdout",
     "output_type": "stream",
     "text": [
      "I love pythonI love pythonI love python\n"
     ]
    }
   ],
   "source": [
    "string3='I love python'\n",
    "print(string3*3)"
   ]
  },
  {
   "cell_type": "code",
   "execution_count": 84,
   "id": "527e58ea",
   "metadata": {},
   "outputs": [
    {
     "name": "stdout",
     "output_type": "stream",
     "text": [
      "comes under single\n"
     ]
    }
   ],
   "source": [
    "string4 = 'strings is a special data type. Anything that comes under single or double quote,its called as strings'\n",
    "print(string4[46:64]) # extract the come under single"
   ]
  },
  {
   "cell_type": "code",
   "execution_count": 90,
   "id": "2fc278d4",
   "metadata": {},
   "outputs": [
    {
     "name": "stdout",
     "output_type": "stream",
     "text": [
      "No. of times appearing for strings word: 2\n"
     ]
    }
   ],
   "source": [
    "string4 = 'strings is a special data type. Anything that comes under single or double quote,its called as strings'\n",
    "print('No. of times appearing for strings word:',string4.count('strings'))"
   ]
  },
  {
   "cell_type": "code",
   "execution_count": 105,
   "id": "5a6009af",
   "metadata": {},
   "outputs": [
    {
     "name": "stdout",
     "output_type": "stream",
     "text": [
      "Occurrences of the word 'strings': 2\n"
     ]
    }
   ],
   "source": [
    "#string4 = 'strings is a special data type. Anything that comes under single or double quote,its called as strings'\n",
    "def count_word_occurrences(string, word):\n",
    "    count = 0\n",
    "    index = 0\n",
    "    while index < len(string):\n",
    "        # Search for the word\n",
    "        if string[index:index + len(word)] == word:\n",
    "            count += 1\n",
    "            # Skip the current word\n",
    "            index += len(word)\n",
    "        else:\n",
    "            # Skip the current character\n",
    "            index += 1\n",
    "    return count\n",
    "\n",
    "# Example usage\n",
    "text = \"'strings is a special data type. Anything that comes under single or double quote,its called as strings'\"\n",
    "word = \"strings\"\n",
    "print(\"Occurrences of the word 'strings':\", count_word_occurrences(text, word))"
   ]
  }
 ],
 "metadata": {
  "kernelspec": {
   "display_name": "Python 3 (ipykernel)",
   "language": "python",
   "name": "python3"
  },
  "language_info": {
   "codemirror_mode": {
    "name": "ipython",
    "version": 3
   },
   "file_extension": ".py",
   "mimetype": "text/x-python",
   "name": "python",
   "nbconvert_exporter": "python",
   "pygments_lexer": "ipython3",
   "version": "3.11.5"
  }
 },
 "nbformat": 4,
 "nbformat_minor": 5
}
